{
 "cells": [
  {
   "cell_type": "code",
   "execution_count": 1,
   "metadata": {
    "collapsed": false
   },
   "outputs": [],
   "source": [
    "peeps = [('Ralph Zuniga', 'Tennessee', 'leslie10@example.org'), \n",
    "         ('Jason Campos', 'New Mexico', 'strongchristy@example.net'), \n",
    "         ('Tiffany Meadows', 'Nebriska', 'desireelopez@example.net'), \n",
    "         ('Mary Rogers', 'Alabama', 'daniellemorales@example.com'), \n",
    "         ('Rebecca Phillips', 'Idaho', 'rachel94@example.com'), \n",
    "         ('Shawn Moss PhD', 'Arizona', 'morrissamantha@example.com'), \n",
    "         ('Olivia Warren', 'Illinois', 'cforbes@example.net'), \n",
    "         ('Michael Pace', 'Nebriska', 'qstrong@example.com'), \n",
    "         ('Zachary Martinez', 'West Virginia', 'dominique16@example.net'), \n",
    "         ('Karen Bailey', 'New York', 'alexiskelley@example.com'), \n",
    "         ('Diane Wood', 'Rhode Island', 'thomascarol@example.org'), \n",
    "         ('Melissa Mclaughlin', 'Michigan', 'lisachavez@example.org'), \n",
    "         ('Debra Bailey', 'Washington', 'frankmarshall@example.net'), \n",
    "         ('Francisco Lloyd', 'Alaska', 'jameswalker@example.net'), \n",
    "         ('Kevin Taylor', 'Wisconsin', 'thoward@example.net'), \n",
    "         ('Colleen Hall', 'Kansas', 'hubbardjeremy@example.net'), \n",
    "         ('Emily Chandler', 'Wyoming', 'zachary71@example.com'), \n",
    "         ('Victoria Clayton', 'Oklahoma', 'ian24@example.net'), \n",
    "         ('Nicholas Moore', 'Pennsylvania', 'peter97@example.net'), \n",
    "         ('Stephanie Reid', 'California', 'cynthia72@example.net')]"
   ]
  },
  {
   "cell_type": "markdown",
   "metadata": {},
   "source": [
    "The snippet above assigns a list of tuples to the variable `peeps`.\n",
    "Your job is to transform this list into a list of objects of the class `Person`\n",
    "\n",
    "Some questions that you should discover the answer to along the way:\n",
    "* how do I create a class, again? (https://docs.python.org/3.6/tutorial/classes.html#class-objects)\n",
    "* how do I loop through a list? (https://docs.python.org/3.6/tutorial/controlflow.html#for-statements)\n",
    "* what are the methods I can use on a list? (https://docs.python.org/3.6/tutorial/datastructures.html)\n",
    "* Whats the syntax for accessing a list item or a tuple item?\n",
    "* can a list contain objects?\n",
    "* can what's the difference between a class, a tuple, and a list? _**this will come up again and again and again**_\n",
    "\n",
    "Tips:\n",
    "* Breaking the problem down into smaller ones will make your life easier.\n",
    "* Test your code a lot, at every little step.\n",
    "* make use of `print()` at each step of the way to better see what you're doing.\n",
    "* use `dir()` and `help()` to learn about what methods are available to you on any object and how those methods are used.\n"
   ]
  },
  {
   "cell_type": "code",
   "execution_count": 2,
   "metadata": {
    "collapsed": false
   },
   "outputs": [
    {
     "name": "stdout",
     "output_type": "stream",
     "text": [
      "[<__main__.Person object at 0x10639fbe0>, <__main__.Person object at 0x10639fba8>, <__main__.Person object at 0x10639fb00>, <__main__.Person object at 0x10639fc18>, <__main__.Person object at 0x10639fc50>, <__main__.Person object at 0x10639fc88>, <__main__.Person object at 0x10639fcc0>, <__main__.Person object at 0x10639fcf8>, <__main__.Person object at 0x10639fd30>, <__main__.Person object at 0x10639fd68>, <__main__.Person object at 0x10639fda0>, <__main__.Person object at 0x10639fdd8>, <__main__.Person object at 0x10639fe10>, <__main__.Person object at 0x10639fe48>, <__main__.Person object at 0x10639fe80>, <__main__.Person object at 0x10639feb8>, <__main__.Person object at 0x10639fef0>, <__main__.Person object at 0x10639ff28>, <__main__.Person object at 0x10639ff60>, <__main__.Person object at 0x10639ff98>]\n"
     ]
    }
   ],
   "source": [
    "### your solution here\n",
    "class Person:\n",
    "    def __init__(self, name, state, email):\n",
    "        self.name = name\n",
    "        self.state = state\n",
    "        self.email = email\n",
    "\n",
    "for i in range(len(peeps)):\n",
    "    temp = peeps.pop(0)\n",
    "    peeps.append(Person(temp[0], temp[1], temp[2]))\n",
    "\n",
    "print(peeps)\n",
    "    \n",
    "\n",
    "\n",
    "\n",
    "\n",
    "\n",
    "\n",
    "\n"
   ]
  },
  {
   "cell_type": "code",
   "execution_count": 3,
   "metadata": {
    "collapsed": false
   },
   "outputs": [
    {
     "name": "stdout",
     "output_type": "stream",
     "text": [
      "correct\n"
     ]
    }
   ],
   "source": [
    "# You can check if your peeps list is right by running this\n",
    "# function definition and calling the calling your function with \n",
    "# peeps as the argument.\n",
    "\n",
    "def check(list):\n",
    "    iscorrect = True\n",
    "    for i in list:\n",
    "        if not isinstance(i, Person):\n",
    "            iscorrect = False\n",
    "            break\n",
    "    if iscorrect == True:\n",
    "        print('correct')\n",
    "    else:\n",
    "        print('incorrect')\n",
    "\n",
    "check(peeps)"
   ]
  },
  {
   "cell_type": "markdown",
   "metadata": {},
   "source": [
    "Successful? \n",
    "Go ahead and try the extension:\n",
    "\n",
    "Someone noticed that `peeps` contains an error. Nebraska is spelled wrong. Luckily for us, it's always the same misspelling. Can you write a program that takes the `peeps`, fixes the misspellings and prints a corrected list of tuples? "
   ]
  },
  {
   "cell_type": "code",
   "execution_count": 4,
   "metadata": {
    "collapsed": false
   },
   "outputs": [
    {
     "name": "stdout",
     "output_type": "stream",
     "text": [
      "Nebraska\n",
      "Nebraska\n"
     ]
    }
   ],
   "source": [
    "### your solution here\n",
    "for i in peeps:\n",
    "    if i.state == 'Nebriska':\n",
    "        i.state='Nebraska'\n",
    "        print(i.state)\n",
    "\n",
    "\n",
    "\n",
    "\n",
    "\n",
    "\n",
    "\n"
   ]
  },
  {
   "cell_type": "code",
   "execution_count": 5,
   "metadata": {
    "collapsed": true
   },
   "outputs": [],
   "source": [
    "companies = [('Ralph Zuniga', 'Gonzalez, Lewis and Blankenship'), \n",
    "             ('Jason Campos', 'Hayes Group'), \n",
    "             ('Tiffany Meadows', 'Love, Reed and Sanders'), \n",
    "             ('Mary Rogers', 'Barry-Long'), \n",
    "             ('Rebecca Phillips', 'Walls PLC'), \n",
    "             ('Shawn Moss PhD', 'Goodwin, Moody and Moore'), \n",
    "             ('Olivia Warren', 'Evans-Keller'), \n",
    "             ('Michael Pace', 'Collins LLC'), \n",
    "             ('Zachary Martinez', 'Sharp PLC'), \n",
    "             ('Karen Bailey', 'Barry, Grant and Chase'), \n",
    "             ('Diane Wood', 'Macdonald-Cabrera'), \n",
    "             ('Melissa Mclaughlin', 'Miller-Williams'), \n",
    "             ('Debra Bailey', 'Vega-Hubbard'), \n",
    "             ('Francisco Lloyd', 'Moore, Parker and Johnson'), \n",
    "             ('Kevin Taylor', 'Smith, Little and Johnson'), \n",
    "             ('Colleen Hall', 'Hernandez Ltd'), \n",
    "             ('Emily Chandler', 'Mason, Norris and Bond'), \n",
    "             ('Victoria Clayton', 'Benton-Henry'), \n",
    "             ('Nicholas Moore', 'Robinson Group'), \n",
    "             ('Stephanie Reid', 'Fuentes, Zamora and Becker')]"
   ]
  },
  {
   "cell_type": "markdown",
   "metadata": {},
   "source": [
    "Turns out we're missing some data from our list that needs to be added. Can you add each person's company to a `company` property on the `Person` object and print out the new list?\n",
    "<br />\n",
    "<br />\n",
    "**note: you will often hear attribute and property used interchangeably**"
   ]
  },
  {
   "cell_type": "code",
   "execution_count": 9,
   "metadata": {
    "collapsed": false
   },
   "outputs": [
    {
     "name": "stdout",
     "output_type": "stream",
     "text": [
      "('Ralph Zuniga', 'Tennessee', 'Gonzalez, Lewis and Blankenship', 'leslie10@example.org')\n",
      "('Jason Campos', 'New Mexico', 'Hayes Group', 'strongchristy@example.net')\n",
      "('Tiffany Meadows', 'Nebraska', 'Love, Reed and Sanders', 'desireelopez@example.net')\n",
      "('Mary Rogers', 'Alabama', 'Barry-Long', 'daniellemorales@example.com')\n",
      "('Rebecca Phillips', 'Idaho', 'Walls PLC', 'rachel94@example.com')\n",
      "('Shawn Moss PhD', 'Arizona', 'Goodwin, Moody and Moore', 'morrissamantha@example.com')\n",
      "('Olivia Warren', 'Illinois', 'Evans-Keller', 'cforbes@example.net')\n",
      "('Michael Pace', 'Nebraska', 'Collins LLC', 'qstrong@example.com')\n",
      "('Zachary Martinez', 'West Virginia', 'Sharp PLC', 'dominique16@example.net')\n",
      "('Karen Bailey', 'New York', 'Barry, Grant and Chase', 'alexiskelley@example.com')\n",
      "('Diane Wood', 'Rhode Island', 'Macdonald-Cabrera', 'thomascarol@example.org')\n",
      "('Melissa Mclaughlin', 'Michigan', 'Miller-Williams', 'lisachavez@example.org')\n",
      "('Debra Bailey', 'Washington', 'Vega-Hubbard', 'frankmarshall@example.net')\n",
      "('Francisco Lloyd', 'Alaska', 'Moore, Parker and Johnson', 'jameswalker@example.net')\n",
      "('Kevin Taylor', 'Wisconsin', 'Smith, Little and Johnson', 'thoward@example.net')\n",
      "('Colleen Hall', 'Kansas', 'Hernandez Ltd', 'hubbardjeremy@example.net')\n",
      "('Emily Chandler', 'Wyoming', 'Mason, Norris and Bond', 'zachary71@example.com')\n",
      "('Victoria Clayton', 'Oklahoma', 'Benton-Henry', 'ian24@example.net')\n",
      "('Nicholas Moore', 'Pennsylvania', 'Robinson Group', 'peter97@example.net')\n",
      "('Stephanie Reid', 'California', 'Fuentes, Zamora and Becker', 'cynthia72@example.net')\n"
     ]
    }
   ],
   "source": [
    "### your solution here\n",
    "for i in range(len(peeps)):\n",
    "    peeps[i].company = companies[i][1]\n",
    "    print((peeps[i].name, peeps[i].state, peeps[i].company, peeps[i].email))\n",
    "\n",
    "\n",
    "\n",
    "\n",
    "\n"
   ]
  },
  {
   "cell_type": "code",
   "execution_count": null,
   "metadata": {
    "collapsed": true
   },
   "outputs": [],
   "source": []
  }
 ],
 "metadata": {
  "kernelspec": {
   "display_name": "Python 3",
   "language": "python",
   "name": "python3"
  },
  "language_info": {
   "codemirror_mode": {
    "name": "ipython",
    "version": 3
   },
   "file_extension": ".py",
   "mimetype": "text/x-python",
   "name": "python",
   "nbconvert_exporter": "python",
   "pygments_lexer": "ipython3",
   "version": "3.6.0"
  }
 },
 "nbformat": 4,
 "nbformat_minor": 2
}
