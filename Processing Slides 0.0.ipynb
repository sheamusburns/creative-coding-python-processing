{
 "cells": [
  {
   "cell_type": "markdown",
   "metadata": {
    "slideshow": {
     "slide_type": "slide"
    }
   },
   "source": [
    "## 0.0\n",
    "Write a sketch that includes both a `setup()` and a `draw()` function definition. Make the `size()` of your window 600px square. Draw an ellipse in the center of the window whose radius is half the 1/3 the length of the window's side.\n",
    "\n",
    "<img src=\"./img/0_0.png\" style=\"width:50%\" />"
   ]
  },
  {
   "cell_type": "code",
   "execution_count": 2,
   "metadata": {
    "collapsed": false,
    "slideshow": {
     "slide_type": "subslide"
    }
   },
   "outputs": [],
   "source": [
    "def setup():\n",
    "    size(600, 600)\n",
    "\n",
    "def draw():\n",
    "    ellipse(width/2, height/2, width/3, height/3)"
   ]
  },
  {
   "cell_type": "markdown",
   "metadata": {
    "slideshow": {
     "slide_type": "slide"
    }
   },
   "source": [
    "## 0.1\n",
    "Modify your `draw()` function so that all the **parameters** to the ellipse are instead stored in **global variables** that you **initialize** in the `setup()` function."
   ]
  },
  {
   "cell_type": "code",
   "execution_count": 3,
   "metadata": {
    "collapsed": false,
    "slideshow": {
     "slide_type": "subslide"
    }
   },
   "outputs": [],
   "source": [
    "loc_x = 0\n",
    "loc_y = 0\n",
    "e_width = 0\n",
    "e_height = 0\n",
    "\n",
    "def setup():\n",
    "    global loc_x, loc_y, e_width, e_height\n",
    "    loc_x = width/2; loc_y = height/2; e_width = width/3; e_height = height/3\n",
    "    size(600, 600)\n",
    "    \n",
    "def draw():\n",
    "    ellipse(loc_x, loc_y, e_width, e_height)"
   ]
  },
  {
   "cell_type": "markdown",
   "metadata": {
    "slideshow": {
     "slide_type": "slide"
    }
   },
   "source": [
    "## LET'S TALK ABOUT SCOPE\n",
    "more stuff here"
   ]
  },
  {
   "cell_type": "code",
   "execution_count": 10,
   "metadata": {
    "collapsed": false,
    "scrolled": false,
    "slideshow": {
     "slide_type": "fragment"
    }
   },
   "outputs": [
    {
     "name": "stdout",
     "output_type": "stream",
     "text": [
      "this is a local variable. It is only accessible inside the scope it was defined in.\n",
      "this is a global variable. It can be made accessible from anywhere in the program.\n"
     ]
    }
   ],
   "source": [
    "# In a python program, there are global and local scopes. \n",
    "# The global scope is top-level. Local scopes are confined to the inner workings of functions and expressions.\n",
    "\n",
    "gl_var = 'this is a global variable. It can be made accessible from anywhere in the program.'\n",
    "\n",
    "def my_fun():\n",
    "    gl_var = 'this is a local variable. It is only accessible inside the scope where it was defined.'\n",
    "    print(gl_var)\n",
    "\n",
    "my_fun()\n",
    "print(gl_var)"
   ]
  },
  {
   "cell_type": "code",
   "execution_count": 12,
   "metadata": {
    "collapsed": false,
    "slideshow": {
     "slide_type": "subslide"
    }
   },
   "outputs": [
    {
     "name": "stdout",
     "output_type": "stream",
     "text": [
      "this is a local variable. It is only accessible inside the scope where it was defined.\n",
      "this is a local variable. It is only accessible inside the scope where it was defined.\n"
     ]
    }
   ],
   "source": [
    "# Python gives us a keyword to grant local scopes access to variables at the global level.\n",
    "# Using the global keyword can allow our functions to modify global variables.\n",
    "\n",
    "gl_var = 'this is a global variable. It can be made accessible from anywhere in the program.'\n",
    "\n",
    "def my_fun():\n",
    "    global gl_var\n",
    "    gl_var = 'this is a local variable. It is only accessible inside the scope where it was defined.'\n",
    "    print(gl_var)\n",
    "\n",
    "my_fun()\n",
    "print(gl_var)"
   ]
  },
  {
   "cell_type": "markdown",
   "metadata": {
    "slideshow": {
     "slide_type": "slide"
    }
   },
   "source": [
    "## 0.2\n",
    "\n",
    "Create an effect similar to the one below by altering the height of your ellipse each time your program goes through the `draw()` function.\n",
    "\n",
    "<img src=\"./img/basic.gif\" style=\"width:50%\" />"
   ]
  },
  {
   "cell_type": "code",
   "execution_count": null,
   "metadata": {
    "collapsed": true,
    "slideshow": {
     "slide_type": "fragment"
    }
   },
   "outputs": [],
   "source": [
    "loc_x = 0\n",
    "loc_y = 0\n",
    "e_width = 0\n",
    "e_height = 0\n",
    "\n",
    "\n",
    "def setup():\n",
    "    global loc_x, loc_y, e_width, e_height\n",
    "    loc_x = width/2; loc_y = height/2; e_width = width/3; e_height = height/3\n",
    "    size(600, 600)\n",
    "\n",
    "    \n",
    "def draw():\n",
    "    global e_height\n",
    "    \n",
    "    if e_height < height:\n",
    "        ellipse(loc_x, loc_y, e_width, e_height)\n",
    "        e_height = e_height + 2\n",
    "        #saveFrame(\"thing-######.png\")\n",
    "    else: noLoop()"
   ]
  }
 ],
 "metadata": {
  "celltoolbar": "Slideshow",
  "kernelspec": {
   "display_name": "Python 3",
   "language": "python",
   "name": "python3"
  },
  "language_info": {
   "codemirror_mode": {
    "name": "ipython",
    "version": 3
   },
   "file_extension": ".py",
   "mimetype": "text/x-python",
   "name": "python",
   "nbconvert_exporter": "python",
   "pygments_lexer": "ipython3",
   "version": "3.6.0"
  }
 },
 "nbformat": 4,
 "nbformat_minor": 2
}
