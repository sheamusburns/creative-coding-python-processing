{
 "cells": [
  {
   "cell_type": "code",
   "execution_count": 9,
   "metadata": {
    "collapsed": false
   },
   "outputs": [
    {
     "name": "stdout",
     "output_type": "stream",
     "text": [
      "r\n",
      "o\n",
      "y\n",
      "g\n",
      "b\n",
      "i\n",
      "v\n",
      "what color do you want?greeeeeeeeeeeen\n",
      "you chose greeeeeeeeeeeen\n"
     ]
    }
   ],
   "source": [
    "rainbow_colors = ['r','o','y','g','b','i','v']\n",
    "for color in rainbow_colors:\n",
    "    print(color)\n",
    "    \n",
    "inp = input('what color do you want?')\n",
    "print('you chose {color}'.format(color=inp))"
   ]
  },
  {
   "cell_type": "markdown",
   "metadata": {},
   "source": [
    "# Data Types\n",
    "Everything (well, almost everything...) in Python is an object. This means there can be many data types. We will get into what an object is later, but just know that Python has a number of built in data types that are similar to most programming languages. Among them are:\n",
    "```\n",
    "bool, str, list, int, float, dict, function, tuple\n",
    "```\n",
    "\n",
    "We can check a data type using the built-in `type()` function. You will probably not use this function very often, but it's there and available to you. "
   ]
  },
  {
   "cell_type": "code",
   "execution_count": 2,
   "metadata": {
    "collapsed": false,
    "scrolled": true
   },
   "outputs": [
    {
     "data": {
      "text/plain": [
       "(bool, str, list, int, float, dict)"
      ]
     },
     "execution_count": 2,
     "metadata": {},
     "output_type": "execute_result"
    }
   ],
   "source": [
    "type(True), type('hello'), type([1, 2, 3]), type(4), type(4.2), type({'j':'money'})\n"
   ]
  },
  {
   "cell_type": "markdown",
   "metadata": {},
   "source": [
    "# Functions"
   ]
  },
  {
   "cell_type": "code",
   "execution_count": 3,
   "metadata": {
    "collapsed": false,
    "slideshow": {
     "slide_type": "-"
    }
   },
   "outputs": [
    {
     "name": "stdout",
     "output_type": "stream",
     "text": [
      "<class 'function'>\n",
      "ja, I'm having fun!\n"
     ]
    }
   ],
   "source": [
    "def fun():\n",
    "    print('ja, I\\'m having fun!')\n",
    "print(type(fun))\n",
    "fun()"
   ]
  },
  {
   "cell_type": "code",
   "execution_count": 4,
   "metadata": {
    "collapsed": false
   },
   "outputs": [
    {
     "name": "stdout",
     "output_type": "stream",
     "text": [
      "<class 'function'>\n",
      "ja, this is fun\n"
     ]
    }
   ],
   "source": [
    "fun = lambda: print('ja, this is fun') \n",
    "print(type(fun))\n",
    "fun()"
   ]
  },
  {
   "cell_type": "markdown",
   "metadata": {},
   "source": [
    "## Expressions\n",
    "An expression in code returns a new value.\n",
    "In python3, expressions may be, but are not required to be enclosed in parens. You will often hear programmers talk about evaluating expressions."
   ]
  },
  {
   "cell_type": "code",
   "execution_count": 40,
   "metadata": {
    "collapsed": false
   },
   "outputs": [
    {
     "data": {
      "text/plain": [
       "True"
      ]
     },
     "execution_count": 40,
     "metadata": {},
     "output_type": "execute_result"
    }
   ],
   "source": [
    "type(1) == int"
   ]
  },
  {
   "cell_type": "markdown",
   "metadata": {},
   "source": [
    "The same expression can be wrapped in parentheses."
   ]
  },
  {
   "cell_type": "code",
   "execution_count": 41,
   "metadata": {
    "collapsed": false
   },
   "outputs": [
    {
     "data": {
      "text/plain": [
       "True"
      ]
     },
     "execution_count": 41,
     "metadata": {},
     "output_type": "execute_result"
    }
   ],
   "source": [
    "(type(1) == int)"
   ]
  },
  {
   "cell_type": "markdown",
   "metadata": {},
   "source": [
    "#### Ternary Expression\n",
    "A ternary expression is 'syntatic sugar', meaning its an easier way of writing something that would normally take more lines of code to accomplish the same thing."
   ]
  },
  {
   "cell_type": "code",
   "execution_count": 64,
   "metadata": {
    "collapsed": false
   },
   "outputs": [
    {
     "name": "stdout",
     "output_type": "stream",
     "text": [
      "4\n"
     ]
    }
   ],
   "source": [
    "# this is not a ternary expression\n",
    "\n",
    "if type('b') == int:\n",
    "    x = 1\n",
    "else: \n",
    "    x = 4\n",
    "print(x)"
   ]
  },
  {
   "cell_type": "code",
   "execution_count": 62,
   "metadata": {
    "collapsed": false
   },
   "outputs": [
    {
     "name": "stdout",
     "output_type": "stream",
     "text": [
      "4\n"
     ]
    }
   ],
   "source": [
    "# this is\n",
    "\n",
    "x = 1 if type('b') == int else 4\n",
    "print(x)"
   ]
  },
  {
   "cell_type": "markdown",
   "metadata": {},
   "source": [
    "# Classes"
   ]
  },
  {
   "cell_type": "code",
   "execution_count": 38,
   "metadata": {
    "collapsed": false
   },
   "outputs": [],
   "source": [
    "class Unicorn():\n",
    "    def __init__(self, name, age, horn_color, origin ):\n",
    "        self.name = name\n",
    "        self.age = age\n",
    "        self.horn_color = horn_color\n",
    "        self.origin = origin\n",
    "    def greet(self):\n",
    "        print('hello, I am ' + self.name + ', a ' + str(self.age) + ' year old, ' + self.horn_color + ' horned unicorn from ' + self.origin)"
   ]
  },
  {
   "cell_type": "code",
   "execution_count": 43,
   "metadata": {
    "collapsed": false
   },
   "outputs": [
    {
     "name": "stdout",
     "output_type": "stream",
     "text": [
      "hello, I am Smelmy, a 603 year old, green horned unicorn from Agartha\n",
      "hello, I am Nardath, a 23 year old, orange horned unicorn from Auroville\n"
     ]
    }
   ],
   "source": [
    "smelmy = Unicorn('Smelmy', 603, 'green', 'Agartha')\n",
    "nardath = Unicorn('Nardath', 23, 'orange', 'Auroville')\n",
    "smelmy.greet()\n",
    "nardath.greet()"
   ]
  },
  {
   "cell_type": "code",
   "execution_count": 44,
   "metadata": {
    "collapsed": false
   },
   "outputs": [
    {
     "data": {
      "text/plain": [
       "__main__.Unicorn"
      ]
     },
     "execution_count": 44,
     "metadata": {},
     "output_type": "execute_result"
    }
   ],
   "source": [
    "type(smelmy)"
   ]
  },
  {
   "cell_type": "code",
   "execution_count": 45,
   "metadata": {
    "collapsed": false
   },
   "outputs": [
    {
     "data": {
      "text/plain": [
       "'__main__'"
      ]
     },
     "execution_count": 45,
     "metadata": {},
     "output_type": "execute_result"
    }
   ],
   "source": [
    "__name__"
   ]
  },
  {
   "cell_type": "code",
   "execution_count": null,
   "metadata": {
    "collapsed": true
   },
   "outputs": [],
   "source": []
  }
 ],
 "metadata": {
  "celltoolbar": "Slideshow",
  "kernelspec": {
   "display_name": "Python 3",
   "language": "python",
   "name": "python3"
  },
  "language_info": {
   "codemirror_mode": {
    "name": "ipython",
    "version": 3
   },
   "file_extension": ".py",
   "mimetype": "text/x-python",
   "name": "python",
   "nbconvert_exporter": "python",
   "pygments_lexer": "ipython3",
   "version": "3.6.0"
  }
 },
 "nbformat": 4,
 "nbformat_minor": 2
}
